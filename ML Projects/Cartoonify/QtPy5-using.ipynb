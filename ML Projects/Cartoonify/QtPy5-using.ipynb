{
 "cells": [
  {
   "cell_type": "code",
   "execution_count": 1,
   "id": "9c75ef1d-956a-415b-ab82-3f21111dfde1",
   "metadata": {},
   "outputs": [
    {
     "ename": "SystemExit",
     "evalue": "0",
     "output_type": "error",
     "traceback": [
      "An exception has occurred, use %tb to see the full traceback.\n",
      "\u001b[0;31mSystemExit\u001b[0m\u001b[0;31m:\u001b[0m 0\n"
     ]
    },
    {
     "name": "stderr",
     "output_type": "stream",
     "text": [
      "/home/liberio/.local/lib/python3.8/site-packages/IPython/core/interactiveshell.py:3449: UserWarning: To exit: use 'exit', 'quit', or Ctrl-D.\n",
      "  warn(\"To exit: use 'exit', 'quit', or Ctrl-D.\", stacklevel=1)\n"
     ]
    }
   ],
   "source": [
    "# use basic pyqt5\n",
    "import sys\n",
    "from PyQt5.QtWidgets import QApplication, QWidget, QLabel\n",
    "from PyQt5.QtGui import QIcon, QPixmap\n",
    "from PyQt5.QtCore import pyqtSlot\n",
    "\n",
    "path = './hyungwon.jpeg'\n",
    "def window():\n",
    "    app = QApplication(sys.argv)\n",
    "    widget = QWidget()\n",
    "    \n",
    "    text_lb = QLabel(widget)\n",
    "    text_lb.setText('hello mom')\n",
    "    text_lb.move(200,100)\n",
    "    text_lb.setFocus()\n",
    "    \n",
    "    img_lb = QLabel(widget)\n",
    "    pixmap = QPixmap(path)\n",
    "    img_lb.setPixmap(pixmap)\n",
    "    \n",
    "    widget.setGeometry(50,50,800,200)\n",
    "    widget.setWindowTitle('Test Desktop App')\n",
    "    widget.show()\n",
    "    sys.exit(app.exec_())\n",
    "    \n",
    "# if __name__ == '__main__':\n",
    "window()"
   ]
  },
  {
   "cell_type": "code",
   "execution_count": 2,
   "id": "f57fa481-982a-4c9b-aa4f-83da67ec6e50",
   "metadata": {},
   "outputs": [
    {
     "ename": "SystemExit",
     "evalue": "0",
     "output_type": "error",
     "traceback": [
      "An exception has occurred, use %tb to see the full traceback.\n",
      "\u001b[0;31mSystemExit\u001b[0m\u001b[0;31m:\u001b[0m 0\n"
     ]
    }
   ],
   "source": [
    "class App(QWidget):\n",
    "    def __init__(self):\n",
    "        super().__init__()\n",
    "        self.title = 'Image Using'\n",
    "        self.left = 50\n",
    "        self.right = 50\n",
    "        self.width = 600\n",
    "        self.height = 400\n",
    "        self.initUI()\n",
    "        \n",
    "    def initUI(self):\n",
    "        self.setWindowTitle(self.title)\n",
    "        self.setGeometry(self.left, self.right,\n",
    "                         self.width, self.height)\n",
    "        \n",
    "        lb = QLabel(self)\n",
    "        pixmap = QPixmap('./hyungwon.jpeg')\n",
    "        lb.setPixmap(pixmap)\n",
    "        # self.resize(pixmap.width(), pixmap.height())\n",
    "        \n",
    "        self.show()\n",
    "if __name__ == '__main__':\n",
    "    app = QApplication(sys.argv)\n",
    "    ex = App()\n",
    "    sys.exit(app.exec_())"
   ]
  },
  {
   "cell_type": "code",
   "execution_count": null,
   "id": "b135961b-fa41-4b69-b573-46d7ffb979dd",
   "metadata": {},
   "outputs": [],
   "source": [
    "%tb"
   ]
  },
  {
   "cell_type": "code",
   "execution_count": null,
   "id": "f92dc91f-a374-457a-a137-90de3632ebe9",
   "metadata": {},
   "outputs": [],
   "source": []
  }
 ],
 "metadata": {
  "kernelspec": {
   "display_name": "Python 3 (ipykernel)",
   "language": "python",
   "name": "python3"
  },
  "language_info": {
   "codemirror_mode": {
    "name": "ipython",
    "version": 3
   },
   "file_extension": ".py",
   "mimetype": "text/x-python",
   "name": "python",
   "nbconvert_exporter": "python",
   "pygments_lexer": "ipython3",
   "version": "3.11.4"
  }
 },
 "nbformat": 4,
 "nbformat_minor": 5
}
