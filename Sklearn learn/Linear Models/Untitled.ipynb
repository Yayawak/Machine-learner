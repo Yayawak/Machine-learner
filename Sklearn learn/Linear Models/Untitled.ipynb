{
 "cells": [
  {
   "cell_type": "code",
   "execution_count": 1,
   "id": "9dd1e3bd-8cbb-410a-b229-0edc724f35ee",
   "metadata": {},
   "outputs": [],
   "source": [
    "import matplotlib.pyplot as plt\n",
    "import numpy as np"
   ]
  },
  {
   "cell_type": "markdown",
   "id": "ba6a552e-f6ba-4876-9605-59b02f7f147d",
   "metadata": {
    "tags": []
   },
   "source": [
    "# $$\\hat{y}(w, x) = w_0 + w_1 x_1 + ... + w_p x_p$$"
   ]
  },
  {
   "cell_type": "markdown",
   "id": "309555e1-f0ba-4633-9616-ea2c262918df",
   "metadata": {},
   "source": [
    "## Ordinary Least Squares Complexity\n",
    "\n",
    "# $\\large{O} (n_{\\text{samples}}, n_{\\text{features}}^2 )$\n"
   ]
  },
  {
   "cell_type": "code",
   "execution_count": null,
   "id": "c5fdcfe9-c877-4a13-a74f-7259a50ec8eb",
   "metadata": {},
   "outputs": [],
   "source": [
    "\n"
   ]
  }
 ],
 "metadata": {
  "kernelspec": {
   "display_name": "Python 3",
   "language": "python",
   "name": "python3"
  },
  "language_info": {
   "codemirror_mode": {
    "name": "ipython",
    "version": 3
   },
   "file_extension": ".py",
   "mimetype": "text/x-python",
   "name": "python",
   "nbconvert_exporter": "python",
   "pygments_lexer": "ipython3",
   "version": "3.8.5"
  }
 },
 "nbformat": 4,
 "nbformat_minor": 5
}
