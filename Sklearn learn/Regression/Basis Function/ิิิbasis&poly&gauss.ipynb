{
 "cells": [
  {
   "cell_type": "code",
   "execution_count": null,
   "id": "d093e19a-7894-4195-8894-d729616c8058",
   "metadata": {},
   "outputs": [],
   "source": []
  },
  {
   "cell_type": "markdown",
   "id": "79d85c6e-f9e8-489e-96e8-a1c5242c3d96",
   "metadata": {},
   "source": [
    "## Ideal linear regression\n",
    "![linear_function](https://phyblas.hinaboshi.com/rup/nayuki/2018/i01.png)"
   ]
  },
  {
   "cell_type": "markdown",
   "id": "5db1c483-7ea3-441b-878c-921930bacdf0",
   "metadata": {},
   "source": [
    "### $$z = wx + b$$"
   ]
  },
  {
   "cell_type": "markdown",
   "id": "c941f394-0d98-4fdf-87e5-7ef5fd5358d1",
   "metadata": {},
   "source": [
    "## Mostly found regression\n",
    "![reg](https://phyblas.hinaboshi.com/rup/nayuki/2018/i03.png)"
   ]
  },
  {
   "cell_type": "markdown",
   "id": "b051ad6e-2266-455e-abac-99d80bcabe15",
   "metadata": {},
   "source": [
    "# Basis Function \n",
    "# $$ \\mathbf{\\begin{align}z = \\sum_{i=1}^{n} \\, w_i\\phi_i(x)\n",
    "\\end{align}\n",
    "}$$\n",
    "\n",
    "$ \\text{  z = Sum of some fucntions, i.e. $z = sin(x) + e^{-x} $}$ "
   ]
  },
  {
   "cell_type": "markdown",
   "id": "2ad7af32-e429-46cc-ab8a-5dfe94598796",
   "metadata": {},
   "source": [
    "## $ \\phi_i(x) $ is basis func, $ w_i $ is weight ( signification ) of each functions"
   ]
  },
  {
   "cell_type": "markdown",
   "id": "b0d1cca1-ba9b-4722-a120-1b0c12151855",
   "metadata": {},
   "source": [
    "### Popular basic function is **Polynomial funcion**\n",
    "$ \\phi_i(x) \\, = \\, x^{i-1}$\n",
    "<br />\n",
    "$ \\begin{align}z \\, = \\, \\sum_{i=1}^n w_i x^{i-1}\\, = \\, w_1 + w_2x + w_3x^2 + \\dots + \n",
    "w_n x^{n-1}\n",
    "\\end{align}\n",
    "$"
   ]
  },
  {
   "cell_type": "markdown",
   "id": "7fb55a98-9fe2-4367-9444-06ff9359abe0",
   "metadata": {
    "tags": []
   },
   "source": [
    "### or write in matrix format\n",
    "### $$ \n",
    "\\begin{align}\n",
    "z &= \n",
    "\\begin{bmatrix}\n",
    "    \\phi_1(x) & \\phi_2{x} & \\cdots & \\phi_n(x)\n",
    "\\end{bmatrix}\n",
    "\\begin{bmatrix}\n",
    "    w_1 \\\\ w_2 \\\\ \\vdots \\\\ w_n\n",
    "\\end{bmatrix} \\\\\n",
    "&= \\color{red}{\\vec{\\phi}^T \\vec{w} }\n",
    "\\end{align}\n",
    "$$"
   ]
  },
  {
   "cell_type": "markdown",
   "id": "3049bb8e-df14-4fc8-83a8-b31c0ea24eeb",
   "metadata": {},
   "source": [
    "### Z for polynomial : $\\phi_i(x) = x^{i-1}$\n",
    "#### $$ \\begin{align}\n",
    "\\vec{\\phi}(x) =\n",
    "\\begin{bmatrix}\n",
    " 1 \\\\ x \\\\ x^2 \\\\ \\vdots \\\\ x^{m-1}\n",
    "\\end{bmatrix}\n",
    "\\end{align}$$"
   ]
  },
  {
   "cell_type": "markdown",
   "id": "4e878243-6424-4beb-a9b2-87e17e828ae5",
   "metadata": {},
   "source": [
    "## Then Solve $\\vec{w} = ?$"
   ]
  },
  {
   "cell_type": "markdown",
   "id": "45a439ae-d202-4b6b-89ab-f4b314fa7712",
   "metadata": {},
   "source": [
    "\n",
    "## $$ \n",
    "\\begin{align} \n",
    "sse = J(w) = \\sum_{i=1}^n (z_{i,predict} - z_{i,true})^2\n",
    "\\end{align} \n",
    "$$\n",
    "### $ \n",
    "\\vec{z} = \\Phi \\vec{w} = \n",
    "\\begin{bmatrix}\n",
    "z_1 \\\\ z_2 \\\\ \\vdots \\\\ z_n\n",
    "\\end{bmatrix}\n",
    "$"
   ]
  },
  {
   "cell_type": "markdown",
   "id": "c85b8b94-211d-4077-b031-9964d0210cf2",
   "metadata": {},
   "source": [
    "$\n",
    "\\begin{align}\n",
    "\\mathbf{\\Phi} =\n",
    "\\begin{bmatrix}\n",
    " \\phi_1(x_1) & \\phi_2(x_1) & \\cdots & \\phi_m(x_1) \\\\ \\\\\n",
    " \\phi_1(x_2) & \\phi_2(x_2) & \\cdots & \\phi_m(x_2) \\\\ \\\\\n",
    " \\vdots & \\vdots & \\ddots & \\vdots \\\\ \\\\\n",
    " \\phi_1(x_n) & \\phi_2(x_n) & \\cdots & \\phi_m(x_n)\n",
    "\\end{bmatrix}\n",
    "\\end{align}\n",
    "= \\text{design metrix}\n",
    "$"
   ]
  },
  {
   "cell_type": "markdown",
   "id": "142e26d2-4c7a-49c7-8fab-5a91833c717b",
   "metadata": {},
   "source": [
    "### $$\n",
    "\\begin{align} \n",
    "J(w) = \\sum_{i=1}^n \\left(\\sum_{j=1}^m w_j \\phi_j (x_j) - z_{i,true}\\right)^2\n",
    "\\end{align} \n",
    "$$"
   ]
  },
  {
   "cell_type": "markdown",
   "id": "c3408794-c1f0-495a-8194-423948197ec7",
   "metadata": {},
   "source": [
    "<kbd>\n",
    "    Trick\n",
    "    <b>$$\n",
    "\\begin{align}\n",
    "f(\\mu) = \\sum_{i=1}^n(x_i - \\mu)^2  \\\\ \n",
    "\\dfrac{d}{d\\mu}f({\\mu} )\n",
    "&= \\dfrac{d}{d\\mu} \\sum_{i=1}^n(x_i - \\mu)^2 \\\\\n",
    "&= \\sum_{i=1}^n \\dfrac{d}{d\\mu} (x_i-\\mu)^2 \\\\\n",
    "&= \\sum_{i=1}^n 2(x_i - \\mu)^2 (-1)\\\\\n",
    "&= -2\\sum_{i=1}^n (x_i - \\mu) \\\\\n",
    "&= -2\\sum_{i=1}^n x_i + 2n\\mu\n",
    "\\end{align}\n",
    "    $$\n",
    "    </b>\n",
    "</kbd>"
   ]
  },
  {
   "cell_type": "markdown",
   "id": "4cbed70e-3ab5-4f2b-b259-99399025cc55",
   "metadata": {},
   "source": [
    "# Find **min** Loss / SSE\n",
    "### $$  \n",
    "\\begin{align}\n",
    "\\frac{\\partial}{\\partial w_k} J(w_k)\n",
    "&= \\frac{\\partial}{\\partial w_k} \\sum_{i=1}^n \\left(\\sum_{j=1}^m w_j \\phi_j (x_j) - z_{i}\\right)^2 \\\\\n",
    "&=  \\sum_{i=1}^n \\frac{\\partial}{\\partial w_k} \\left(\\sum_{j=1}^m w_j \\phi_j (x_j) - z_{i}\\right)^2  \\\\\n",
    "&= \\sum_{i=1}^n (2 \\phi_k (x_i)) \\left(\\sum_{j=1}^m w_j \\phi_j (x_j) - z_{i}\\right) \\\\\n",
    "&= 2 \\sum_{i=1}^n (\\phi_k (x_i)) \\left(\\sum_{j=1}^m w_j \\phi_j (x_j) - z_{i}\\right) \\\\\\\n",
    "&= 0\n",
    "\\end{align}\n",
    "$$"
   ]
  },
  {
   "cell_type": "markdown",
   "id": "0b39654d-9a23-4bbd-b1f8-fd056c6350ea",
   "metadata": {},
   "source": [
    "## from \n",
    "## $$\\quad \\vec{z} = \\Phi \\vec{w}$$\n",
    "## $$ \\color{orange}{\\Phi^T \\Phi\\vec{w} = \\Phi^T \\vec{z}} $$"
   ]
  },
  {
   "cell_type": "markdown",
   "id": "0a5889e4-bbe0-47ba-99f0-918051067a9c",
   "metadata": {},
   "source": [
    "# Summary : How to find new $Z$\n",
    "\n",
    "## 1. Calculate $\\Phi_{init}$ from $x_{init}$\n",
    "## 2. Use np.linalg.solve find $w$\n",
    "## 3. Calculate $\\Phi_{new}$ of $x_{new} $\n",
    "## 4. Calculate $Z$ from $\\Phi_{new} , \\:w$"
   ]
  },
  {
   "cell_type": "code",
   "execution_count": 6,
   "id": "dd211d9e-2753-40e7-9757-4eae375b54a6",
   "metadata": {},
   "outputs": [],
   "source": [
    "import numpy as np\n",
    "import matplotlib.pyplot as plt\n",
    "\n",
    "np.random.seed(0)\n",
    "n = 70\n",
    "x = np.random.uniform(0, 10, n)\n",
    "z = ((2*x-1)**2 *(x-5)**2 *(x-9)**2) * np.random.normal(1, .1, n)/1000"
   ]
  },
  {
   "cell_type": "code",
   "execution_count": 10,
   "id": "01259fae-e769-44e4-9464-171432a7498f",
   "metadata": {},
   "outputs": [
    {
     "data": {
      "image/png": "[encoded data removed]",
      "text/plain": [
       "<Figure size 432x288 with 1 Axes>"
      ]
     },
     "metadata": {
      "needs_background": "light"
     },
     "output_type": "display_data"
    }
   ],
   "source": [
    "##### 1 ########\n",
    "def basis_polynomial(x, m):\n",
    "    return np.array([x**i for i in range(m)]).T\n",
    "\n",
    "m = 8 # base\n",
    "phi = basis_polynomial(x, m)\n",
    "\n",
    "####### 2 solve equ ############\n",
    "w = np.linalg.solve(phi.T.dot(phi), phi.T.dot(z))\n",
    "\n",
    "######## 3 ###########\n",
    "x_ = np.linspace(x.min(), x.max(), 201)\n",
    "phi_ = basis_polynomial(x_, m)\n",
    "\n",
    "######### 4 ############\n",
    "z_ = phi_.dot(w)\n",
    "\n",
    "plt.axes(xlabel='x', ylabel='z')\n",
    "plt.scatter(x, z, c='m', edgecolor='b')\n",
    "\n",
    "plt.plot(x_, z_, 'r')\n",
    "plt.show()"
   ]
  },
  {
   "cell_type": "markdown",
   "id": "2a859e41-48fe-47c6-a93e-de5d09557b81",
   "metadata": {},
   "source": [
    "# Polynomial Regression : basis fn = polynomial"
   ]
  },
  {
   "cell_type": "code",
   "execution_count": 19,
   "id": "ce34a5d2-8622-4e07-bce4-33f79617eb9b",
   "metadata": {},
   "outputs": [],
   "source": [
    "class PolynomialRegression:\n",
    "    def __init__(self, m=4):\n",
    "        self.m = m\n",
    "    def learn(self, x, z):\n",
    "        phi = self.base(x)\n",
    "        self.w = np.linalg.solve(phi.T.dot(phi), phi.T.dot(z))\n",
    "    def predict(self, x_):\n",
    "        phi_ = self.base(x_)\n",
    "        return phi_.dot(self.w)\n",
    "    def base(self, x):\n",
    "        return x[:, None] ** np.arange(self.m)\n",
    "    "
   ]
  },
  {
   "cell_type": "code",
   "execution_count": 36,
   "id": "92d1bb36-fc73-4b1d-90a5-2dc19c6da35d",
   "metadata": {},
   "outputs": [
    {
     "data": {
      "image/png": "[encoded data removed]",
      "text/plain": [
       "<Figure size 432x288 with 1 Axes>"
      ]
     },
     "metadata": {
      "needs_background": "light"
     },
     "output_type": "display_data"
    }
   ],
   "source": [
    "np.random.seed(0)\n",
    "n = 50\n",
    "x = np.random.uniform(0, 20, n)\n",
    "z = ((x-1)**2 *(x-10)**2 *(x-18)**2) * np.random.normal(1, .1, n)/1000\n",
    "\n",
    "pR = PolynomialRegression(m=8)\n",
    "pR.learn(x, z)\n",
    "x_ = np.linspace(x.min(), x.max(), 201)\n",
    "z_ = pR.predict(x_)\n",
    "\n",
    "plt.axes(xlabel='x', ylabel='y')\n",
    "plt.scatter(x, z, c='m', edgecolor='b')\n",
    "plt.plot(x_, z_, 'r')\n",
    "plt.show()"
   ]
  },
  {
   "cell_type": "markdown",
   "id": "64273d25-d81e-4233-b01c-41a352dc2628",
   "metadata": {},
   "source": [
    "#### Polynomial Regression Can also made by **Gradient Descent** Technique"
   ]
  },
  {
   "cell_type": "markdown",
   "id": "c6c932e0-6375-40d1-b23a-78a63a310878",
   "metadata": {},
   "source": [
    "# Now use **Gauss function** as Base\n",
    "# $$ \n",
    "\\begin{align}\n",
    "\\phi(x) = e^{-\\gamma(x-\\mu)^2} \\\\\n",
    "\\phi_j(x_i) = e^{-\\gamma(x_i-x_j)^2} \n",
    "\\end{align}\n",
    "$$"
   ]
  },
  {
   "cell_type": "code",
   "execution_count": 39,
   "id": "9ef652d1-5022-475e-ae7e-da4ebfe3c168",
   "metadata": {},
   "outputs": [
    {
     "data": {
      "image/png": "[encoded data removed]",
      "text/plain": [
       "<Figure size 432x288 with 1 Axes>"
      ]
     },
     "metadata": {
      "needs_background": "light"
     },
     "output_type": "display_data"
    }
   ],
   "source": [
    "def gauss(x1, x2, gamma):\n",
    "    return np.exp(-gamma * (x1-x2)**2)\n",
    "\n",
    "np.random.seed(0)\n",
    "n = 20\n",
    "x = np.random.uniform(0, 20, n)\n",
    "z = ((x-1)**2 *(x-10)**2 *(x-18)**2) * np.random.normal(1, .1, n)/1000\n",
    "\n",
    "gamma = 1 # how fast value descent from gauss bell\n",
    "phi = gauss(x, x[:, None], gamma)\n",
    "w = np.linalg.solve(phi.T.dot(phi), phi.T.dot(z))\n",
    "\n",
    "x_ = np.linspace(x.min(), x.max(), 201)\n",
    "phi_ = gauss(x, x_[:, None], gamma)\n",
    "z_ = phi_.dot(w)\n",
    "\n",
    "plt.axes(xlabel='x', ylabel='y')\n",
    "plt.scatter(x, z, c='m', edgecolor='b')\n",
    "plt.plot(x_, z_, 'r')\n",
    "plt.show()"
   ]
  },
  {
   "cell_type": "markdown",
   "id": "4c6f4f3c-08c8-46fa-8659-ffdf662bdf04",
   "metadata": {},
   "source": [
    "# Regularize for better outcome"
   ]
  },
  {
   "cell_type": "raw",
   "id": "8d22b0d1-06b5-4a25-aa7e-69cb0dda4ae9",
   "metadata": {},
   "source": [
    "lamda = .1\n",
    "w = np.linalg.solve(phi.T.dot(phi) + np.eye(len(x)) * l, phi.T.dot(z))"
   ]
  },
  {
   "cell_type": "code",
   "execution_count": 42,
   "id": "3294ea7f-4e2b-479d-8a36-6e7068e10eb8",
   "metadata": {},
   "outputs": [
    {
     "data": {
      "image/png": "[encoded data removed]",
      "text/plain": [
       "<Figure size 432x288 with 1 Axes>"
      ]
     },
     "metadata": {
      "needs_background": "light"
     },
     "output_type": "display_data"
    }
   ],
   "source": [
    "def gauss(x1, x2, gamma):\n",
    "    return np.exp(-gamma * (x1-x2)**2)\n",
    "\n",
    "# np.random.seed(0)\n",
    "n = 20\n",
    "x = np.random.uniform(0, 20, n)\n",
    "z = ((x-1)**2 *(x-10)**2 *(x-18)**2) * np.random.normal(1, .1, n)/1000\n",
    "\n",
    "gamma = 1 # how fast value descent from gauss bell\n",
    "phi = gauss(x, x[:, None], gamma)\n",
    "lamda = .1\n",
    "w = np.linalg.solve(phi.T.dot(phi) + np.eye(len(x)) * lamda,  phi.T.dot(z))\n",
    "# w = np.linalg.solve(phi.T.dot(phi), phi.T.dot(z))\n",
    "\n",
    "x_ = np.linspace(x.min(), x.max(), 201)\n",
    "phi_ = gauss(x, x_[:, None], gamma)\n",
    "z_ = phi_.dot(w)\n",
    "\n",
    "plt.axes(xlabel='x', ylabel='y')\n",
    "plt.scatter(x, z, c='m', edgecolor='b')\n",
    "plt.plot(x_, z_, 'r')\n",
    "plt.show()"
   ]
  },
  {
   "cell_type": "code",
   "execution_count": 45,
   "id": "e485467f-8aa0-437f-b452-8967bfa449f0",
   "metadata": {},
   "outputs": [
    {
     "data": {
      "text/plain": [
       "array([[1., 0., 0.],\n",
       "       [0., 1., 0.],\n",
       "       [0., 0., 1.]])"
      ]
     },
     "execution_count": 45,
     "metadata": {},
     "output_type": "execute_result"
    }
   ],
   "source": [
    "np.eye(3)"
   ]
  },
  {
   "cell_type": "markdown",
   "id": "68751229-f2c4-4a09-be64-c7edfe245f5f",
   "metadata": {},
   "source": [
    "# PolynomalReg use Gauss as base funcion"
   ]
  },
  {
   "cell_type": "code",
   "execution_count": 46,
   "id": "69867ad5-0f93-42f5-b025-27259522f61c",
   "metadata": {},
   "outputs": [],
   "source": [
    "class PolynomialRegression:\n",
    "    def __init__(self,gamma=1, lamb=0.1):\n",
    "        self.lamd = lamd\n",
    "        self.m = m\n",
    "    def learn(self, x, z):\n",
    "        phi = self.gauss(x)\n",
    "        self.w = np.linalg.solve(phi.T.dot(phi) + np.eye(len(x)) * self.lamd,\n",
    "                            phi.T.dot(z))\n",
    "        self.x = x\n",
    "    def predict(self, x_):\n",
    "        phi_ = self.gauss(self.x, x_[:,None])\n",
    "        return phi_.dot(self.w)\n",
    "    def gauss(self, x1, x2):\n",
    "        return np.exp(-self.gamma*(x1-x2)**2)"
   ]
  },
  {
   "cell_type": "code",
   "execution_count": null,
   "id": "be07532a-bab7-4fb4-97d1-0f02242f65c8",
   "metadata": {},
   "outputs": [],
   "source": []
  }
 ],
 "metadata": {
  "kernelspec": {
   "display_name": "Python 3",
   "language": "python",
   "name": "python3"
  },
  "language_info": {
   "codemirror_mode": {
    "name": "ipython",
    "version": 3
   },
   "file_extension": ".py",
   "mimetype": "text/x-python",
   "name": "python",
   "nbconvert_exporter": "python",
   "pygments_lexer": "ipython3",
   "version": "3.8.5"
  }
 },
 "nbformat": 4,
 "nbformat_minor": 5
}
