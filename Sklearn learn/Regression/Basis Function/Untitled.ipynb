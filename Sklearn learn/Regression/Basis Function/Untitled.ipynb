{
 "cells": [
  {
   "cell_type": "code",
   "execution_count": null,
   "id": "d093e19a-7894-4195-8894-d729616c8058",
   "metadata": {},
   "outputs": [],
   "source": []
  },
  {
   "cell_type": "markdown",
   "id": "79d85c6e-f9e8-489e-96e8-a1c5242c3d96",
   "metadata": {},
   "source": [
    "## Ideal linear regression\n",
    "![linear_function](https://phyblas.hinaboshi.com/rup/nayuki/2018/i01.png)"
   ]
  },
  {
   "cell_type": "markdown",
   "id": "c941f394-0d98-4fdf-87e5-7ef5fd5358d1",
   "metadata": {},
   "source": [
    "## Mostly found regression\n",
    "![reg](https://phyblas.hinaboshi.com/rup/nayuki/2018/i03.png)"
   ]
  },
  {
   "cell_type": "markdown",
   "id": "b051ad6e-2266-455e-abac-99d80bcabe15",
   "metadata": {},
   "source": [
    "# Basis Function \n",
    "# $$ \\mathbf{\\begin{align}z = \\sum_{i=1}^{n} \\, w_i\\phi_i(x)\n",
    "\\end{align}\n",
    "}$$\n",
    "\n",
    "$ \\text{  z = Sum of some fucntions, i.e. $z = sin(x) + e^{-x} $}$ "
   ]
  },
  {
   "cell_type": "markdown",
   "id": "2ad7af32-e429-46cc-ab8a-5dfe94598796",
   "metadata": {},
   "source": [
    "## $ \\phi_i(x) $ is basis func, $ w_i $ is weight ( signification ) of each functions"
   ]
  },
  {
   "cell_type": "markdown",
   "id": "b0d1cca1-ba9b-4722-a120-1b0c12151855",
   "metadata": {},
   "source": [
    "### Popular basic function is **Polynomial funcion**\n",
    "$ \\phi_i(x) \\, = \\, x^{i-1}$\n",
    "<br />\n",
    "## $ \\begin{align}z \\, = \\, \\sum_{i=1}^n w_i x^{i-1}\\, = \\, w_1 + w_2x + w_3x^2 + \\dots + \n",
    "w_n x^{n-1}\n",
    "\\end{align}\n",
    "$"
   ]
  },
  {
   "cell_type": "markdown",
   "id": "7fb55a98-9fe2-4367-9444-06ff9359abe0",
   "metadata": {
    "tags": []
   },
   "source": [
    "## l\n",
    "$ \\begin{align} \n",
    "z &= \\begin{bmatrix}\n",
    "    \\phi_1(x) & \\phi_2{x} \\cdots \\phi_n(x)\n",
    "\\end{bmatrix}\n",
    "\n",
    "\\begin{bmatrix}\n",
    "    w_1 \\\\ w_2 \\\\ \\vdots \\\\ w_n\n",
    "\\end{bmatrix}\n",
    "\n",
    "\\end{align}$"
   ]
  },
  {
   "cell_type": "markdown",
   "id": "3049bb8e-df14-4fc8-83a8-b31c0ea24eeb",
   "metadata": {},
   "source": [
    "## Z for polynomial\n",
    "$ \\begin{align}\n",
    "\\vec{\\phi}(x) =\n",
    "\\begin{bmatrix}\n",
    " 1 \\\\ x \\\\ x^2 \\\\ \\vdots \\\\ x^{m-1}\n",
    "\\end{bmatrix}\n",
    "\\end{align}$ "
   ]
  },
  {
   "cell_type": "code",
   "execution_count": null,
   "id": "2d326ae2-3338-4f9e-916d-4405d7393103",
   "metadata": {},
   "outputs": [],
   "source": []
  }
 ],
 "metadata": {
  "kernelspec": {
   "display_name": "Python 3",
   "language": "python",
   "name": "python3"
  },
  "language_info": {
   "codemirror_mode": {
    "name": "ipython",
    "version": 3
   },
   "file_extension": ".py",
   "mimetype": "text/x-python",
   "name": "python",
   "nbconvert_exporter": "python",
   "pygments_lexer": "ipython3",
   "version": "3.8.5"
  }
 },
 "nbformat": 4,
 "nbformat_minor": 5
}
