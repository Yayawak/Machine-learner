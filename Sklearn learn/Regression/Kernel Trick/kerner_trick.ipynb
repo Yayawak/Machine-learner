{
 "cells": [
  {
   "cell_type": "markdown",
   "id": "d59169ef-1f24-48d5-8786-9d4f338d9c7b",
   "metadata": {},
   "source": [
    "![different view](https://phyblas.hinaboshi.com/rup/nayuki/2018/i11.png)"
   ]
  },
  {
   "cell_type": "markdown",
   "id": "c18d072d-f877-42f1-89fa-47da25905cf8",
   "metadata": {},
   "source": [
    "#### **Kernel function(method)** : accepts Points of old space $ \\to $ new space"
   ]
  },
  {
   "cell_type": "code",
   "execution_count": null,
   "id": "b0f145e0-3067-4614-b632-6d1b3d1ffb48",
   "metadata": {},
   "outputs": [],
   "source": []
  }
 ],
 "metadata": {
  "kernelspec": {
   "display_name": "Python 3",
   "language": "python",
   "name": "python3"
  },
  "language_info": {
   "codemirror_mode": {
    "name": "ipython",
    "version": 3
   },
   "file_extension": ".py",
   "mimetype": "text/x-python",
   "name": "python",
   "nbconvert_exporter": "python",
   "pygments_lexer": "ipython3",
   "version": "3.8.5"
  }
 },
 "nbformat": 4,
 "nbformat_minor": 5
}
