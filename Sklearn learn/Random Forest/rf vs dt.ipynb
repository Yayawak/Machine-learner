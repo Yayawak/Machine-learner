{
 "cells": [
  {
   "cell_type": "code",
   "execution_count": 1,
   "id": "d9b9a503-fb97-4b4e-b424-e27657630a50",
   "metadata": {},
   "outputs": [],
   "source": [
    "import seaborn as sns\n",
    "import numpy as np\n"
   ]
  },
  {
   "cell_type": "code",
   "execution_count": 2,
   "id": "92c5d44c-cfda-40f6-9adb-27c283ac5dee",
   "metadata": {},
   "outputs": [],
   "source": [
    "iris = sns.load_dataset('iris')\n",
    "X = iris.drop(columns='species')\n",
    "y = iris.species\n",
    "# X, y\n"
   ]
  },
  {
   "cell_type": "code",
   "execution_count": 3,
   "id": "031a2db1-9ff0-4cd6-9e1c-24aab42fa5df",
   "metadata": {},
   "outputs": [],
   "source": [
    "from sklearn import model_selection\n",
    "from sklearn.metrics import confusion_matrix, classification_report\n",
    "X_train, X_test, y_train, y_test = model_selection.train_test_split(\n",
    "    X, y, test_size=0.25\n",
    ")"
   ]
  },
  {
   "cell_type": "code",
   "execution_count": 4,
   "id": "d5233dbb-315c-4eec-933f-df4913ca8508",
   "metadata": {},
   "outputs": [
    {
     "data": {
      "text/plain": [
       "RandomForestClassifier(n_estimators=80)"
      ]
     },
     "execution_count": 4,
     "metadata": {},
     "output_type": "execute_result"
    }
   ],
   "source": [
    "import scikitplot as skplot\n",
    "from sklearn.ensemble import RandomForestClassifier\n",
    "\n",
    "model = RandomForestClassifier(n_estimators=80)\n",
    "model.fit(X_train, y_train)"
   ]
  },
  {
   "cell_type": "code",
   "execution_count": 6,
   "id": "8726871f-3e1f-4f04-8e02-0c27f6eb4275",
   "metadata": {},
   "outputs": [
    {
     "name": "stdout",
     "output_type": "stream",
     "text": [
      "Score => 1.0000\n",
      "              precision    recall  f1-score   support\n",
      "\n",
      "      setosa       1.00      1.00      1.00        13\n",
      "  versicolor       1.00      1.00      1.00        14\n",
      "   virginica       1.00      1.00      1.00        11\n",
      "\n",
      "    accuracy                           1.00        38\n",
      "   macro avg       1.00      1.00      1.00        38\n",
      "weighted avg       1.00      1.00      1.00        38\n",
      "\n",
      "[[13  0  0]\n",
      " [ 0 14  0]\n",
      " [ 0  0 11]]\n"
     ]
    },
    {
     "data": {
      "image/png": "[encoded data removed]",
      "text/plain": [
       "<Figure size 432x288 with 2 Axes>"
      ]
     },
     "metadata": {
      "needs_background": "light"
     },
     "output_type": "display_data"
    }
   ],
   "source": [
    "import matplotlib.pyplot as plt\n",
    "class_names = iris.species.unique()\n",
    "\n",
    "y_predict = model.predict(X_test)\n",
    "\n",
    "print('Score => {:.4f}'.format(model.score(X_test, y_test)))\n",
    "print(classification_report(y_test, y_predict, target_names=class_names))\n",
    "print(confusion_matrix(y_test, y_predict,))\n",
    "skplot.metrics.plot_confusion_matrix(y_test, y_predict,\n",
    "                                    normalize=True,\n",
    "                                    cmap=plt.cm.gist_earth_r)\n",
    "\n",
    "import matplotlib.pyplot as plt\n",
    "plt.show()"
   ]
  },
  {
   "cell_type": "markdown",
   "id": "b6c4a78d-2dbf-4e44-8362-a9b33c0ac390",
   "metadata": {},
   "source": [
    "# Compare Score of RandomForest & DecisionTree"
   ]
  },
  {
   "cell_type": "code",
   "execution_count": 7,
   "id": "93204e6e-0f3b-420a-b6e3-bf15f25a65da",
   "metadata": {},
   "outputs": [
    {
     "name": "stdout",
     "output_type": "stream",
     "text": [
      "Score => 1.0000\n",
      "[[13  0  0]\n",
      " [ 0 14  0]\n",
      " [ 0  0 11]]\n"
     ]
    },
    {
     "data": {
      "text/plain": [
       "<AxesSubplot:title={'center':'Normalized Confusion Matrix'}, xlabel='Predicted label', ylabel='True label'>"
      ]
     },
     "execution_count": 7,
     "metadata": {},
     "output_type": "execute_result"
    },
    {
     "data": {
      "image/png": "[encoded data removed]",
      "text/plain": [
       "<Figure size 432x288 with 2 Axes>"
      ]
     },
     "metadata": {
      "needs_background": "light"
     },
     "output_type": "display_data"
    }
   ],
   "source": [
    "from sklearn.tree import DecisionTreeClassifier\n",
    "model_tree = DecisionTreeClassifier()\n",
    "model_tree.fit(X_train, y_train)\n",
    "y_predict = model_tree.predict(X_test)\n",
    "\n",
    "print('Score => {:.4f}'.format(model_tree.score(X_test, y_test)))\n",
    "print(confusion_matrix(y_test, y_predict))\n",
    "skplot.metrics.plot_confusion_matrix(y_test, y_predict,\n",
    "                                    normalize=True,\n",
    "                                    cmap=plt.cm.hsv)\n"
   ]
  },
  {
   "cell_type": "code",
   "execution_count": null,
   "id": "b562cf4a-68af-42bb-875d-833f42ab496a",
   "metadata": {},
   "outputs": [],
   "source": []
  }
 ],
 "metadata": {
  "kernelspec": {
   "display_name": "Python 3 (ipykernel)",
   "language": "python",
   "name": "python3"
  },
  "language_info": {
   "codemirror_mode": {
    "name": "ipython",
    "version": 3
   },
   "file_extension": ".py",
   "mimetype": "text/x-python",
   "name": "python",
   "nbconvert_exporter": "python",
   "pygments_lexer": "ipython3",
   "version": "3.11.4"
  }
 },
 "nbformat": 4,
 "nbformat_minor": 5
}
