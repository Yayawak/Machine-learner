{
 "cells": [
  {
   "cell_type": "code",
   "execution_count": 3,
   "id": "56fa980e-5635-4fd8-bd44-328a99470a6c",
   "metadata": {},
   "outputs": [
    {
     "name": "stdout",
     "output_type": "stream",
     "text": [
      "(239, 211, 3)\n",
      "[1 1 1]\n"
     ]
    }
   ],
   "source": [
    "import cv2\n",
    "img = cv2.imread('./Dumbledores/dbd0.jpeg')\n",
    "print(img.shape) # row, col, bgr = h, w, bgr\n",
    "print(img[0,0,])"
   ]
  },
  {
   "cell_type": "code",
   "execution_count": null,
   "id": "abb52238-6620-4820-a525-943a421fa0fb",
   "metadata": {},
   "outputs": [],
   "source": [
    "cv2.imshow('DBD', img)\n",
    "cv2.waitKey(0)\n",
    "cv2.destroyAllWindows()"
   ]
  },
  {
   "cell_type": "code",
   "execution_count": null,
   "id": "428f238e-97c0-48cc-846d-50fdabcb6bb5",
   "metadata": {},
   "outputs": [],
   "source": [
    "import matplotlib.pyplot as plt\n",
    "plt.imshow(img[:,:,-1])"
   ]
  },
  {
   "cell_type": "code",
   "execution_count": null,
   "id": "9fee6868-a505-4559-918d-58d1bb713143",
   "metadata": {},
   "outputs": [],
   "source": []
  }
 ],
 "metadata": {
  "kernelspec": {
   "display_name": "Python 3",
   "language": "python",
   "name": "python3"
  },
  "language_info": {
   "codemirror_mode": {
    "name": "ipython",
    "version": 3
   },
   "file_extension": ".py",
   "mimetype": "text/x-python",
   "name": "python",
   "nbconvert_exporter": "python",
   "pygments_lexer": "ipython3",
   "version": "3.8.5"
  }
 },
 "nbformat": 4,
 "nbformat_minor": 5
}
