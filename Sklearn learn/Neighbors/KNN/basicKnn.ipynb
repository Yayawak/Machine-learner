{
 "cells": [
  {
   "cell_type": "code",
   "execution_count": 1,
   "id": "f49521b0-c133-4d57-bf99-ba2ef90659ef",
   "metadata": {},
   "outputs": [],
   "source": [
    "import seaborn as sns\n",
    "import matplotlib.pyplot as plt"
   ]
  },
  {
   "cell_type": "code",
   "execution_count": 41,
   "id": "055d256b-5f37-4538-97ce-1a1beec981fb",
   "metadata": {},
   "outputs": [
    {
     "name": "stdout",
     "output_type": "stream",
     "text": [
      "[0 0 0 0 0 0 0 0 0 0 0 0 0 0 0 0 0 0 0 0 0 0 0 0 0 0 0 0 0 0 0 0 0 0 0 0 0\n",
      " 0 0 0 0 0 0 0 0 0 0 0 0 0 1 1 1 1 1 1 1 1 1 1 1 1 1 1 1 1 1 1 1 1 1 1 1 1\n",
      " 1 1 1 1 1 1 1 1 1 1 1 1 1 1 1 1 1 1 1 1 1 1 1 1 1 1 2 2 2 2 2 2 2 2 2 2 2\n",
      " 2 2 2 2 2 2 2 2 2 2 2 2 2 2 2 2 2 2 2 2 2 2 2 2 2 2 2 2 2 2 2 2 2 2 2 2 2\n",
      " 2 2]\n",
      "Cross value score : [1.    0.933 1.    1.    0.867 0.933 0.933 1.    1.    1.   ]\n",
      "Mean score : 96.7\n"
     ]
    }
   ],
   "source": [
    "from sklearn.datasets import load_iris\n",
    "from sklearn.neighbors import KNeighborsClassifier\n",
    "\n",
    "iris = load_iris()\n",
    "model = KNeighborsClassifier(n_neighbors=5)\n",
    "\n",
    "from sklearn.model_selection import cross_val_score\n",
    "\n",
    "X, y = iris.data, iris.target\n",
    "# X\n",
    "cvs = cross_val_score(model, X, y, cv=10 )\n",
    "print('Cross value score : {}'.format(cvs.round(3)))\n",
    "print('Mean score : {}'.format(cvs.mean().round(3) * 100 ))\n"
   ]
  },
  {
   "cell_type": "code",
   "execution_count": 46,
   "id": "f58db46c-c2e4-4f2a-bc88-d139a52f7220",
   "metadata": {},
   "outputs": [
    {
     "data": {
      "text/plain": [
       "KNeighborsClassifier()"
      ]
     },
     "execution_count": 46,
     "metadata": {},
     "output_type": "execute_result"
    }
   ],
   "source": [
    "model.fit(X, y)"
   ]
  },
  {
   "cell_type": "code",
   "execution_count": 58,
   "id": "f9a75dcb-dcd1-46cb-a238-dae36a215cf0",
   "metadata": {},
   "outputs": [
    {
     "name": "stdout",
     "output_type": "stream",
     "text": [
      "[0 2]\n"
     ]
    }
   ],
   "source": [
    "X_input = [[1,1,1,1], [5,2,3,8]]\n",
    "y_pred = model.predict(X_input)\n",
    "print(y_pred)\n",
    "# print(iris[iris.species == y_pred])\n",
    "# iris.feature_names\n",
    "\n"
   ]
  }
 ],
 "metadata": {
  "kernelspec": {
   "display_name": "Python 3",
   "language": "python",
   "name": "python3"
  },
  "language_info": {
   "codemirror_mode": {
    "name": "ipython",
    "version": 3
   },
   "file_extension": ".py",
   "mimetype": "text/x-python",
   "name": "python",
   "nbconvert_exporter": "python",
   "pygments_lexer": "ipython3",
   "version": "3.8.5"
  }
 },
 "nbformat": 4,
 "nbformat_minor": 5
}
