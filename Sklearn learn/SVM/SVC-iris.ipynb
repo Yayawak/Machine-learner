{
 "cells": [
  {
   "cell_type": "code",
   "execution_count": 1,
   "id": "149e7d31-cff5-438a-868a-f135c7d47932",
   "metadata": {},
   "outputs": [],
   "source": [
    "import numpy as np\n",
    "import pandas as pd\n",
    "import matplotlib.pyplot as plt\n",
    "import seaborn as sns"
   ]
  },
  {
   "cell_type": "code",
   "execution_count": 3,
   "id": "b3ca79a1-2103-4f79-b6b1-2113728eb767",
   "metadata": {},
   "outputs": [
    {
     "data": {
      "text/html": [
       "<div>\n",
       "<style scoped>\n",
       "    .dataframe tbody tr th:only-of-type {\n",
       "        vertical-align: middle;\n",
       "    }\n",
       "\n",
       "    .dataframe tbody tr th {\n",
       "        vertical-align: top;\n",
       "    }\n",
       "\n",
       "    .dataframe thead th {\n",
       "        text-align: right;\n",
       "    }\n",
       "</style>\n",
       "<table border=\"1\" class=\"dataframe\">\n",
       "  <thead>\n",
       "    <tr style=\"text-align: right;\">\n",
       "      <th></th>\n",
       "      <th>sepal_length</th>\n",
       "      <th>sepal_width</th>\n",
       "      <th>petal_length</th>\n",
       "      <th>petal_width</th>\n",
       "      <th>species</th>\n",
       "    </tr>\n",
       "  </thead>\n",
       "  <tbody>\n",
       "    <tr>\n",
       "      <th>0</th>\n",
       "      <td>5.1</td>\n",
       "      <td>3.5</td>\n",
       "      <td>1.4</td>\n",
       "      <td>0.2</td>\n",
       "      <td>setosa</td>\n",
       "    </tr>\n",
       "    <tr>\n",
       "      <th>1</th>\n",
       "      <td>4.9</td>\n",
       "      <td>3.0</td>\n",
       "      <td>1.4</td>\n",
       "      <td>0.2</td>\n",
       "      <td>setosa</td>\n",
       "    </tr>\n",
       "    <tr>\n",
       "      <th>2</th>\n",
       "      <td>4.7</td>\n",
       "      <td>3.2</td>\n",
       "      <td>1.3</td>\n",
       "      <td>0.2</td>\n",
       "      <td>setosa</td>\n",
       "    </tr>\n",
       "    <tr>\n",
       "      <th>3</th>\n",
       "      <td>4.6</td>\n",
       "      <td>3.1</td>\n",
       "      <td>1.5</td>\n",
       "      <td>0.2</td>\n",
       "      <td>setosa</td>\n",
       "    </tr>\n",
       "    <tr>\n",
       "      <th>4</th>\n",
       "      <td>5.0</td>\n",
       "      <td>3.6</td>\n",
       "      <td>1.4</td>\n",
       "      <td>0.2</td>\n",
       "      <td>setosa</td>\n",
       "    </tr>\n",
       "  </tbody>\n",
       "</table>\n",
       "</div>"
      ],
      "text/plain": [
       "   sepal_length  sepal_width  petal_length  petal_width species\n",
       "0           5.1          3.5           1.4          0.2  setosa\n",
       "1           4.9          3.0           1.4          0.2  setosa\n",
       "2           4.7          3.2           1.3          0.2  setosa\n",
       "3           4.6          3.1           1.5          0.2  setosa\n",
       "4           5.0          3.6           1.4          0.2  setosa"
      ]
     },
     "execution_count": 3,
     "metadata": {},
     "output_type": "execute_result"
    }
   ],
   "source": [
    "df = sns.load_dataset('iris')\n",
    "df.head()"
   ]
  },
  {
   "cell_type": "code",
   "execution_count": 6,
   "id": "69e93c88-9532-4fe8-b3eb-bbea056c9886",
   "metadata": {},
   "outputs": [],
   "source": [
    "X = df.drop(columns='species')\n",
    "y = df.species"
   ]
  },
  {
   "cell_type": "markdown",
   "id": "ae8fdfa7-0247-4c00-8bb1-126ca2c1195e",
   "metadata": {},
   "source": [
    "# Cross validation"
   ]
  },
  {
   "cell_type": "code",
   "execution_count": 13,
   "id": "0d5c723f-3e7f-453b-9a71-95e91d5c5911",
   "metadata": {},
   "outputs": [
    {
     "name": "stdout",
     "output_type": "stream",
     "text": [
      "cross value score : [1.    0.933 1.    1.    0.867 1.    0.933 1.    1.    1.   ]\n",
      "mean (%) = 97.333\n"
     ]
    }
   ],
   "source": [
    "from sklearn.svm import SVC, SVR # not use svr(egression)\n",
    "from sklearn.model_selection import cross_val_score\n",
    "model = SVC(kernel='linear')\n",
    "cvs = cross_val_score(model, X, y, cv=10)\n",
    "print('cross value score : {}' . format(cvs.round(3)))\n",
    "print('mean (%) = {:.3f}' . format(cvs.mean() * 100))"
   ]
  },
  {
   "cell_type": "markdown",
   "id": "9173c0a6-1920-4580-9aab-aae3fe95aba5",
   "metadata": {},
   "source": [
    "### If cvs is high like this no need to evaluate model anymore"
   ]
  },
  {
   "cell_type": "code",
   "execution_count": 21,
   "id": "78c34384-b406-4c3d-9cf3-f61259b938cd",
   "metadata": {},
   "outputs": [
    {
     "name": "stdout",
     "output_type": "stream",
     "text": [
      "['versicolor' 'setosa']\n"
     ]
    },
    {
     "name": "stderr",
     "output_type": "stream",
     "text": [
      "/home/liberio/miniconda3/lib/python3.8/site-packages/sklearn/base.py:441: UserWarning: X does not have valid feature names, but SVC was fitted with feature names\n",
      "  warnings.warn(\n"
     ]
    }
   ],
   "source": [
    "model = SVC(kernel='poly', degree=4, gamma='auto')\n",
    "model = SVC(kernel='rbf')\n",
    "model.fit(X, y)\n",
    "\n",
    "X_to_pred = np.array([[4, 4, 3, 2], \n",
    "                     [5, 2, 1, 2]])\n",
    "print(model.predict(X_to_pred))"
   ]
  },
  {
   "cell_type": "code",
   "execution_count": null,
   "id": "0e57d9f2-af2f-4672-91b4-c78887bdf955",
   "metadata": {},
   "outputs": [],
   "source": []
  }
 ],
 "metadata": {
  "kernelspec": {
   "display_name": "Python 3 (ipykernel)",
   "language": "python",
   "name": "python3"
  },
  "language_info": {
   "codemirror_mode": {
    "name": "ipython",
    "version": 3
   },
   "file_extension": ".py",
   "mimetype": "text/x-python",
   "name": "python",
   "nbconvert_exporter": "python",
   "pygments_lexer": "ipython3",
   "version": "3.9.13"
  }
 },
 "nbformat": 4,
 "nbformat_minor": 5
}
