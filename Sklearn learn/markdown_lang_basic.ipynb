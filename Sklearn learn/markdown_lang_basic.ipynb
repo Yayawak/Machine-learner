{
 "cells": [
  {
   "cell_type": "markdown",
   "id": "bf9dcddf-ba23-42d5-a3f6-27f364415618",
   "metadata": {},
   "source": [
    "# Emphasising"
   ]
  },
  {
   "cell_type": "markdown",
   "id": "3e19e4ef-32d3-4485-b927-35560f75d919",
   "metadata": {},
   "source": [
    "*Italic* **Bold** **Bold"
   ]
  },
  {
   "cell_type": "markdown",
   "id": "7a2f3c18-6614-4d01-86c2-ae005b84c897",
   "metadata": {},
   "source": [
    "~~Scratched Text~~"
   ]
  },
  {
   "cell_type": "markdown",
   "id": "f6a9a9c8-0d02-4c4a-a001-c7bc3b31b023",
   "metadata": {},
   "source": [
    "Superscript^2^"
   ]
  },
  {
   "cell_type": "markdown",
   "id": "51c7be78-eba0-40d4-9460-b48ccceb6643",
   "metadata": {},
   "source": [
    "<u>Under Linable</u> by using html coding"
   ]
  },
  {
   "cell_type": "markdown",
   "id": "dfeca99f-56c7-4432-a9db-5e621b78867f",
   "metadata": {},
   "source": [
    "<b> Bold by html </b> <i>render italic</i>"
   ]
  },
  {
   "cell_type": "markdown",
   "id": "e09ef1ee-19c0-4f64-8a70-51a4dd10fcf5",
   "metadata": {},
   "source": [
    "<span style='color:red'>Html supportion \\t\\t\\t</span>"
   ]
  },
  {
   "cell_type": "markdown",
   "id": "322ef436-6bd2-48dc-9382-108c56064f17",
   "metadata": {},
   "source": [
    "## <kbd>Like</kbd>"
   ]
  },
  {
   "cell_type": "markdown",
   "id": "43e8364b-97c7-411f-986c-bf9da6bc9eb4",
   "metadata": {},
   "source": [
    "### Superscript<sup>2</sup>"
   ]
  },
  {
   "cell_type": "markdown",
   "id": "07ee2289-c813-4e90-ae6b-460cb3735f87",
   "metadata": {},
   "source": [
    "### HHello ***Break Line*** Hello ello \n",
    "</br>\n",
    "### Hello Hello Hello Hello Hello Hello Hello "
   ]
  },
  {
   "cell_type": "markdown",
   "id": "5147c723-0c91-41c0-a180-5a68dfd8f08c",
   "metadata": {},
   "source": [
    "<p style='page-break-after:always;'>Hello I'm not groot</p>"
   ]
  },
  {
   "cell_type": "markdown",
   "id": "6d69b8fd-059c-40ae-a071-099dad5f8c17",
   "metadata": {},
   "source": [
    "# List\n",
    "- Clustering\n",
    "    - <b style='color:orange'>K-Means</b> \n",
    "        - path : <a>Sklearn learn/Clustering/K-Means Clustering/k-means basic.ipynb</a>\n",
    "- Regression\n",
    "    - <kbd style='color:blue'>Linear Regression</kbd>\n",
    "    - Logistic Regression\n",
    "        - Something in Logistic Reg\n",
    "    - I Regret nothing but **sadness** that you're <u>gone</u>"
   ]
  },
  {
   "cell_type": "markdown",
   "id": "fe094432-e20f-49aa-afb7-6804ea725d63",
   "metadata": {},
   "source": [
    "# <b style='color:blue'>Links</b>"
   ]
  },
  {
   "cell_type": "markdown",
   "id": "ee4c6cac-3fde-4185-b3fb-b9d0e062c701",
   "metadata": {},
   "source": [
    "[Github](https://www.github.com)"
   ]
  },
  {
   "cell_type": "markdown",
   "id": "588e20c8-5875-4f63-b646-b79a0ee93f7e",
   "metadata": {},
   "source": [
    "# Image"
   ]
  },
  {
   "cell_type": "markdown",
   "id": "a5ac5896-56fa-4eb9-adf8-6186a6637173",
   "metadata": {},
   "source": [
    "![logo](https://www.raspberrypi.org/app/uploads/2018\n",
    "       /03/RPi-Logo-Reg-SCREEN-199x250.png \"Raspberry pi\")"
   ]
  },
  {
   "cell_type": "markdown",
   "id": "dd65b652-782a-454a-be8d-46e4473f5621",
   "metadata": {},
   "source": [
    "<p align='center'>\n",
    "![logo](https://www.raspberrypi.org/app/uploads/2018/03/RPi-Logo-Reg-\n",
    "SCREEN-199x250.png \"Raspberry pi\")\n",
    "</p>"
   ]
  },
  {
   "cell_type": "markdown",
   "id": "a64d1c7a-6875-4471-91a8-7b6114664d87",
   "metadata": {},
   "source": [
    "<p align=\"center\">\n",
    "![logo](https://www.raspberrypi.org/app/uploads/2018/03/RPi-Logo-Reg-SCREEN-199x250.png \"Raspberry pi\")\n",
    "</p>"
   ]
  },
  {
   "cell_type": "markdown",
   "id": "e8a066ff-432a-40bd-80bd-e103a5c9c0fa",
   "metadata": {},
   "source": [
    "<p align=\"center\">\n",
    "   <img src=\"https://www.raspberrypi.org/app/uploads/2018/03/RPi-Logo-Reg-SCREEN-199x250.png\" alt='rasbery pi' style='width:20% boarder:0'/>\n",
    "</p>"
   ]
  },
  {
   "cell_type": "markdown",
   "id": "37246459-4b57-4579-a3a3-d3e9aeee2144",
   "metadata": {},
   "source": [
    "# Quote"
   ]
  },
  {
   "cell_type": "markdown",
   "id": "4efeb498-b38f-45c4-b584-8555a4c90382",
   "metadata": {},
   "source": [
    "> Imagination is more important than knowledge.\n",
    ">\n",
    "> <p style='text-align: right'>Albert Einstein</p>"
   ]
  },
  {
   "cell_type": "markdown",
   "id": "d22b18bc-d279-4fe0-b830-653b93348161",
   "metadata": {},
   "source": [
    "# HLine\n",
    "---\n",
    "<p style='color:red'>Stop!</p>\n",
    "---\n",
    "---"
   ]
  },
  {
   "cell_type": "markdown",
   "id": "eb20062a-99a2-4815-bced-b02f3238c44e",
   "metadata": {},
   "source": [
    "# Table\n",
    "Fish | City | Chain\n",
    "---|:---:|---\n",
    "Tuna | Mayo | A\n",
    "Tanaki | Willium | Saroth\n",
    "Salmon | Gravity Break | Chronosphere"
   ]
  },
  {
   "cell_type": "markdown",
   "id": "b18d0a71-6c41-44a6-9fd9-67d25a704dfd",
   "metadata": {},
   "source": [
    "# Code Blocks\n",
    "`import numpy as np`\n",
    "```python\n",
    "    from sklearn.model_selection import cross_value_score\n",
    "    for i in X:\n",
    "        print(X)\n",
    "```"
   ]
  },
  {
   "cell_type": "markdown",
   "id": "7df8dd2c-4670-4728-b8e8-18524e1205fa",
   "metadata": {},
   "source": [
    "# Equation\n",
    "$$ f(\\alpha) = \\alpha^2 Asin(f\\alpha) $$\n",
    "$$ center $$"
   ]
  },
  {
   "cell_type": "markdown",
   "id": "f758782e-3082-408f-a080-076d0c60dbd4",
   "metadata": {},
   "source": [
    "$ x \\times y$"
   ]
  },
  {
   "cell_type": "markdown",
   "id": "7466ea10-236b-48f0-a885-1c966ef1c406",
   "metadata": {},
   "source": [
    "$ x \\div y $"
   ]
  },
  {
   "cell_type": "markdown",
   "id": "492b1006-11c1-4653-9609-ff537891a4b9",
   "metadata": {},
   "source": [
    "$  \\dfrac{x}{y} $"
   ]
  },
  {
   "cell_type": "markdown",
   "id": "8cf32bcb-f60d-47ce-ad06-e7be567cce19",
   "metadata": {},
   "source": [
    "$$ \\sqrt{0} is forbidden $$"
   ]
  },
  {
   "cell_type": "markdown",
   "id": "be18cb58-4292-4bfb-891d-f7d013e86af8",
   "metadata": {},
   "source": [
    "$$ x\\pm 5 \n",
    "a^\\prime$$"
   ]
  },
  {
   "cell_type": "markdown",
   "id": "cfa6877c-cd20-412b-9736-5439af570167",
   "metadata": {},
   "source": [
    "# $$ \\alpha^ \\prime$$"
   ]
  },
  {
   "cell_type": "markdown",
   "id": "00ab17cb-2a0f-42b2-912b-e30792f8b599",
   "metadata": {},
   "source": [
    "# $$ \\begin{multline}\n",
    "    P(x,n,p) = \\binom{n}{x}p^{n}(1-p)^{n-x} \\\\\n",
    "    Hello explanation\n",
    "\\end{multline}$$\n",
    "# $$ \\alpha^\\dagger $$\n",
    "# <b style='color:orange'> $$ \\dagger $$</b>"
   ]
  },
  {
   "cell_type": "markdown",
   "id": "ac5e1c3b-702e-4f60-bdd2-9cf0caa39398",
   "metadata": {},
   "source": [
    "$\\mathcal A \\, \\$  \\qquad \\& \\qquad \\LaTeX$\n"
   ]
  },
  {
   "cell_type": "markdown",
   "id": "ff04e803-b2e1-461e-91d1-17572868cc2a",
   "metadata": {},
   "source": [
    "$ \\{ \\} $"
   ]
  },
  {
   "cell_type": "markdown",
   "id": "1e2462f1-d4be-4385-9580-42b07f829442",
   "metadata": {},
   "source": [
    "# $$\\Sigma_{X = 0} ^{\\infty} \\; e^X + sin(\\dfrac{X}{\\pi} ) \\text{$ Nomal Text Here $}$$"
   ]
  },
  {
   "cell_type": "markdown",
   "id": "19a5b4ee-cdc5-42fe-9674-5707446e0c48",
   "metadata": {},
   "source": [
    "# $$ \\mathbb{N} = \\{ a \\in \\mathbb{Z} : a > 0 \\} $$"
   ]
  },
  {
   "cell_type": "markdown",
   "id": "1b8d1fa6-8695-477b-a2d8-eabf538e1260",
   "metadata": {},
   "source": [
    "# $$ \\color{red}{X \\sim Normal \\; (\\mu, \\sigma^2)} $$"
   ]
  },
  {
   "cell_type": "markdown",
   "id": "ef425357-d763-4c9b-b053-9093092282a1",
   "metadata": {},
   "source": [
    "# $$  \\left( X \\right)$$"
   ]
  },
  {
   "cell_type": "markdown",
   "id": "40b6d548-e1bf-4fe6-8d9e-80ff7e05f4b2",
   "metadata": {},
   "source": [
    "# Bigger Expression"
   ]
  },
  {
   "cell_type": "markdown",
   "id": "78d8017c-efae-4cf7-9edb-6461e94f5981",
   "metadata": {},
   "source": [
    "# $$ f(x) = \n",
    "    \\begin{cases}\n",
    "        1/d_{ij} & \\quad \\text{ when $d_{ij} \\leq 160 $} \\\\\n",
    "        0 & \\quad \\text{otherwise}\n",
    "    \\end{cases}$$\n",
    "    "
   ]
  },
  {
   "cell_type": "markdown",
   "id": "7e2b08c1-ff56-41a1-9cf6-9b8d21d710b4",
   "metadata": {},
   "source": [
    "$ \\Huge HELLO! \\quad\n",
    "^3/_7$ "
   ]
  },
  {
   "cell_type": "markdown",
   "id": "f7273777-6f6f-47bd-b64d-b5fb50e3ad93",
   "metadata": {},
   "source": [
    "# Math Fonts"
   ]
  },
  {
   "cell_type": "markdown",
   "id": "487349b5-b203-4587-b52f-d62aa191fcc5",
   "metadata": {},
   "source": [
    "# $\\mathit{abcdef \\, 123456}$"
   ]
  },
  {
   "cell_type": "markdown",
   "id": "289ab7b5-83d0-4288-8ce8-204f9524b28c",
   "metadata": {},
   "source": [
    "# $\\mathscr{ABCDEF}$"
   ]
  },
  {
   "cell_type": "code",
   "execution_count": null,
   "id": "29fb8402-5e1c-4727-aba1-5eba56e29d95",
   "metadata": {},
   "outputs": [],
   "source": []
  },
  {
   "cell_type": "code",
   "execution_count": null,
   "id": "bdf3057f-7318-4830-8fb9-d611956fac4d",
   "metadata": {},
   "outputs": [],
   "source": []
  }
 ],
 "metadata": {
  "kernelspec": {
   "display_name": "Python 3",
   "language": "python",
   "name": "python3"
  },
  "language_info": {
   "codemirror_mode": {
    "name": "ipython",
    "version": 3
   },
   "file_extension": ".py",
   "mimetype": "text/x-python",
   "name": "python",
   "nbconvert_exporter": "python",
   "pygments_lexer": "ipython3",
   "version": "3.8.5"
  }
 },
 "nbformat": 4,
 "nbformat_minor": 5
}
