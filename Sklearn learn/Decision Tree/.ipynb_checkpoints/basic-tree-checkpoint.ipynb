{
 "cells": [
  {
   "cell_type": "code",
   "execution_count": 4,
   "id": "09c05911-3e15-46da-9d18-3e8c382a2017",
   "metadata": {},
   "outputs": [],
   "source": [
    "import numpy as np\n",
    "import pandas as pd\n",
    "import seaborn as sns\n",
    "import matplotlib.pyplot as plt"
   ]
  },
  {
   "cell_type": "code",
   "execution_count": 5,
   "id": "6b554b9c-b7f9-4fbb-bc57-bad3eefe19a5",
   "metadata": {},
   "outputs": [],
   "source": [
    "X = [ 17, 35, 39, 21, 22, 45]\n",
    "X = np.array(X).reshape(-1, 1)\n",
    "# o = orange , l = lemon\n",
    "y_names = ['l', 'o', 'o', 'l', 'l', 'o']\n",
    "# label/target/class\n",
    "y = [0,1,1,0,0,1] # encryped y_names => y"
   ]
  },
  {
   "cell_type": "code",
   "execution_count": 6,
   "id": "502ad98e-55f9-4c76-aad2-5f4084a81334",
   "metadata": {},
   "outputs": [
    {
     "data": {
      "image/png": "[encoded data removed]",
      "text/plain": [
       "<Figure size 432x288 with 1 Axes>"
      ]
     },
     "metadata": {
      "needs_background": "light"
     },
     "output_type": "display_data"
    }
   ],
   "source": [
    "plt.xlabel('fruit')\n",
    "plt.ylabel('size')\n",
    "\n",
    "plt.scatter(y_names, X)\n",
    "plt.show()"
   ]
  },
  {
   "cell_type": "code",
   "execution_count": 7,
   "id": "5dc88ea9-af88-4b40-bf07-e8164411b86b",
   "metadata": {},
   "outputs": [
    {
     "data": {
      "text/plain": [
       "DecisionTreeClassifier()"
      ]
     },
     "execution_count": 7,
     "metadata": {},
     "output_type": "execute_result"
    }
   ],
   "source": [
    "from sklearn.tree import DecisionTreeClassifier\n",
    "model = DecisionTreeClassifier()\n",
    "model.fit(X, y)"
   ]
  },
  {
   "cell_type": "code",
   "execution_count": 8,
   "id": "fc2f233d-be09-4305-a08f-395211daa117",
   "metadata": {},
   "outputs": [
    {
     "data": {
      "text/plain": [
       "array([0, 1, 1, 0, 1])"
      ]
     },
     "execution_count": 8,
     "metadata": {},
     "output_type": "execute_result"
    }
   ],
   "source": [
    "d = [25, 30, 90, 5, 45, ]\n",
    "data = np.array(d).reshape(-1,1)\n",
    "# data = [[25]]\n",
    "y_predict = model.predict(data)\n",
    "y_predict # 0 = lemon, 1 = orange"
   ]
  },
  {
   "cell_type": "code",
   "execution_count": 9,
   "id": "c057f6f0-b078-4db9-bd57-d315364a3a35",
   "metadata": {},
   "outputs": [
    {
     "name": "stdout",
     "output_type": "stream",
     "text": [
      "size 25 is filtered to lemon\n",
      "size 30 is filtered to orange\n",
      "size 90 is filtered to orange\n",
      "size 5 is filtered to lemon\n",
      "size 45 is filtered to orange\n"
     ]
    }
   ],
   "source": [
    "for i, y in enumerate(y_predict):\n",
    "    if y == 0:\n",
    "        print('size' + f' {d[i]} ' + 'is filtered to lemon')\n",
    "    else:\n",
    "        print(f'size {d[i]} is filtered to orange')"
   ]
  },
  {
   "cell_type": "code",
   "execution_count": 10,
   "id": "b7b82fa8-a50d-42c6-a82c-d5c5d38c5f20",
   "metadata": {},
   "outputs": [
    {
     "name": "stdout",
     "output_type": "stream",
     "text": [
      "Size 25 : lemon\n",
      "Size 30 : orange\n",
      "Size 90 : orange\n",
      "Size 5 : lemon\n",
      "Size 45 : orange\n"
     ]
    }
   ],
   "source": [
    "class_names = ['lemon', 'orange']\n",
    "for i in range(len(y_predict)):\n",
    "    print(f'Size {d[i]} : { class_names[0] if y_predict[i] == 0 else class_names[1]}')"
   ]
  },
  {
   "cell_type": "code",
   "execution_count": 11,
   "id": "61e3efca-25a4-4ebe-845b-ff333db7d961",
   "metadata": {},
   "outputs": [],
   "source": [
    "# for real-app use Tkinter to make UI\n",
    "# while True:\n",
    "#     size = eval(input(\"Size :\"))\n",
    "#     data = [[size]]\n",
    "#     y_predict = model.predict(data)\n",
    "#     result = class_names[y_predict[0]]\n",
    "#     print(result)\n",
    "# print('done')"
   ]
  },
  {
   "cell_type": "code",
   "execution_count": 12,
   "id": "b1a17494-68a3-4d47-994d-2b5d88cd4de7",
   "metadata": {},
   "outputs": [],
   "source": [
    "import graphviz\n",
    "import pydotplus"
   ]
  },
  {
   "cell_type": "code",
   "execution_count": 13,
   "id": "2bf57d29-c97d-4f35-afff-3fb995a2d419",
   "metadata": {},
   "outputs": [
    {
     "data": {
      "text/plain": [
       "DecisionTreeClassifier()"
      ]
     },
     "execution_count": 13,
     "metadata": {},
     "output_type": "execute_result"
    }
   ],
   "source": [
    "model"
   ]
  },
  {
   "cell_type": "code",
   "execution_count": 17,
   "id": "6d43e052-0b77-480b-a1af-3ed112f394ee",
   "metadata": {},
   "outputs": [
    {
     "data": {
      "text/plain": [
       "'graph.pdf'"
      ]
     },
     "execution_count": 17,
     "metadata": {},
     "output_type": "execute_result"
    }
   ],
   "source": [
    "# very few basic of graphviz\n",
    "dot = graphviz.Digraph(comment='The Round Table')\n",
    "dot.node('A', 'Authur')\n",
    "dot.node('B', 'Sir Bedevere the Wise')\n",
    "dot.node('L', 'Sir Lancelot the Brave')\n",
    "\n",
    "dot.edges(['AB', 'AL']) # A to B,L\n",
    "dot.edge('B', 'L', constraint='false')\n",
    "dot.render('graph', view=True)"
   ]
  }
 ],
 "metadata": {
  "kernelspec": {
   "display_name": "Python 3",
   "language": "python",
   "name": "python3"
  },
  "language_info": {
   "codemirror_mode": {
    "name": "ipython",
    "version": 3
   },
   "file_extension": ".py",
   "mimetype": "text/x-python",
   "name": "python",
   "nbconvert_exporter": "python",
   "pygments_lexer": "ipython3",
   "version": "3.8.5"
  }
 },
 "nbformat": 4,
 "nbformat_minor": 5
}
