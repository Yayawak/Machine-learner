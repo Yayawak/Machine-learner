{
 "cells": [
  {
   "cell_type": "code",
   "execution_count": 60,
   "id": "13efda67-bf18-476c-a510-4db28a9959a6",
   "metadata": {},
   "outputs": [],
   "source": [
    "import seaborn as sns\n",
    "import  numpy as np\n",
    "import matplotlib.pyplot as plt"
   ]
  },
  {
   "cell_type": "code",
   "execution_count": 2,
   "id": "1cdfd089-0e90-4531-9c33-5d299cafd018",
   "metadata": {},
   "outputs": [],
   "source": [
    "iris = sns.load_dataset('iris')\n",
    "X, y = iris.drop(columns='species'), iris.species"
   ]
  },
  {
   "cell_type": "code",
   "execution_count": 5,
   "id": "97de77f3-759e-4840-8e30-2235aadf7a36",
   "metadata": {},
   "outputs": [
    {
     "data": {
      "text/plain": [
       "array(['setosa', 'versicolor', 'virginica'], dtype=object)"
      ]
     },
     "execution_count": 5,
     "metadata": {},
     "output_type": "execute_result"
    }
   ],
   "source": [
    "y.unique() # then we use k=3"
   ]
  },
  {
   "cell_type": "markdown",
   "id": "38986f9d-3bd4-4325-af5e-9af6525a8b76",
   "metadata": {},
   "source": [
    "### K-Means is Unsupervised Algorithm"
   ]
  },
  {
   "cell_type": "code",
   "execution_count": 30,
   "id": "1047d78a-3b81-407b-8e6d-de5181bf5319",
   "metadata": {},
   "outputs": [],
   "source": [
    "from sklearn.cluster import KMeans\n",
    "\n",
    "model = KMeans(n_clusters=3)\n",
    "y_kmeans = model.fit_predict(X)"
   ]
  },
  {
   "cell_type": "code",
   "execution_count": 31,
   "id": "bc9f7f78-37e8-40cc-9cea-d77002d03d77",
   "metadata": {},
   "outputs": [
    {
     "data": {
      "text/html": [
       "<div>\n",
       "<style scoped>\n",
       "    .dataframe tbody tr th:only-of-type {\n",
       "        vertical-align: middle;\n",
       "    }\n",
       "\n",
       "    .dataframe tbody tr th {\n",
       "        vertical-align: top;\n",
       "    }\n",
       "\n",
       "    .dataframe thead th {\n",
       "        text-align: right;\n",
       "    }\n",
       "</style>\n",
       "<table border=\"1\" class=\"dataframe\">\n",
       "  <thead>\n",
       "    <tr style=\"text-align: right;\">\n",
       "      <th></th>\n",
       "      <th>species</th>\n",
       "      <th>cluster_group</th>\n",
       "    </tr>\n",
       "  </thead>\n",
       "  <tbody>\n",
       "    <tr>\n",
       "      <th>0</th>\n",
       "      <td>setosa</td>\n",
       "      <td>1</td>\n",
       "    </tr>\n",
       "    <tr>\n",
       "      <th>1</th>\n",
       "      <td>setosa</td>\n",
       "      <td>1</td>\n",
       "    </tr>\n",
       "    <tr>\n",
       "      <th>2</th>\n",
       "      <td>setosa</td>\n",
       "      <td>1</td>\n",
       "    </tr>\n",
       "    <tr>\n",
       "      <th>3</th>\n",
       "      <td>setosa</td>\n",
       "      <td>1</td>\n",
       "    </tr>\n",
       "    <tr>\n",
       "      <th>4</th>\n",
       "      <td>setosa</td>\n",
       "      <td>1</td>\n",
       "    </tr>\n",
       "    <tr>\n",
       "      <th>...</th>\n",
       "      <td>...</td>\n",
       "      <td>...</td>\n",
       "    </tr>\n",
       "    <tr>\n",
       "      <th>145</th>\n",
       "      <td>virginica</td>\n",
       "      <td>0</td>\n",
       "    </tr>\n",
       "    <tr>\n",
       "      <th>146</th>\n",
       "      <td>virginica</td>\n",
       "      <td>2</td>\n",
       "    </tr>\n",
       "    <tr>\n",
       "      <th>147</th>\n",
       "      <td>virginica</td>\n",
       "      <td>0</td>\n",
       "    </tr>\n",
       "    <tr>\n",
       "      <th>148</th>\n",
       "      <td>virginica</td>\n",
       "      <td>0</td>\n",
       "    </tr>\n",
       "    <tr>\n",
       "      <th>149</th>\n",
       "      <td>virginica</td>\n",
       "      <td>2</td>\n",
       "    </tr>\n",
       "  </tbody>\n",
       "</table>\n",
       "<p>150 rows × 2 columns</p>\n",
       "</div>"
      ],
      "text/plain": [
       "       species  cluster_group\n",
       "0       setosa              1\n",
       "1       setosa              1\n",
       "2       setosa              1\n",
       "3       setosa              1\n",
       "4       setosa              1\n",
       "..         ...            ...\n",
       "145  virginica              0\n",
       "146  virginica              2\n",
       "147  virginica              0\n",
       "148  virginica              0\n",
       "149  virginica              2\n",
       "\n",
       "[150 rows x 2 columns]"
      ]
     },
     "execution_count": 31,
     "metadata": {},
     "output_type": "execute_result"
    }
   ],
   "source": [
    "iris['cluster_group'] = y_kmeans\n",
    "iris.iloc[:, -2:]"
   ]
  },
  {
   "cell_type": "code",
   "execution_count": 88,
   "id": "f1c00e1d-b7ca-4f97-a6e8-f579acde1207",
   "metadata": {},
   "outputs": [
    {
     "data": {
      "text/html": [
       "<div>\n",
       "<style scoped>\n",
       "    .dataframe tbody tr th:only-of-type {\n",
       "        vertical-align: middle;\n",
       "    }\n",
       "\n",
       "    .dataframe tbody tr th {\n",
       "        vertical-align: top;\n",
       "    }\n",
       "\n",
       "    .dataframe thead th {\n",
       "        text-align: right;\n",
       "    }\n",
       "</style>\n",
       "<table border=\"1\" class=\"dataframe\">\n",
       "  <thead>\n",
       "    <tr style=\"text-align: right;\">\n",
       "      <th>cluster_group</th>\n",
       "      <th>0</th>\n",
       "      <th>1</th>\n",
       "      <th>2</th>\n",
       "    </tr>\n",
       "    <tr>\n",
       "      <th>species</th>\n",
       "      <th></th>\n",
       "      <th></th>\n",
       "      <th></th>\n",
       "    </tr>\n",
       "  </thead>\n",
       "  <tbody>\n",
       "    <tr>\n",
       "      <th>setosa</th>\n",
       "      <td>0</td>\n",
       "      <td>50</td>\n",
       "      <td>0</td>\n",
       "    </tr>\n",
       "    <tr>\n",
       "      <th>versicolor</th>\n",
       "      <td>2</td>\n",
       "      <td>0</td>\n",
       "      <td>48</td>\n",
       "    </tr>\n",
       "    <tr>\n",
       "      <th>virginica</th>\n",
       "      <td>36</td>\n",
       "      <td>0</td>\n",
       "      <td>14</td>\n",
       "    </tr>\n",
       "  </tbody>\n",
       "</table>\n",
       "</div>"
      ],
      "text/plain": [
       "cluster_group   0   1   2\n",
       "species                  \n",
       "setosa          0  50   0\n",
       "versicolor      2   0  48\n",
       "virginica      36   0  14"
      ]
     },
     "execution_count": 88,
     "metadata": {},
     "output_type": "execute_result"
    }
   ],
   "source": [
    "pvt = iris.pivot_table(index='species', values='petal_length',\n",
    "                columns='cluster_group', aggfunc='count',\n",
    "                fill_value=0)\n",
    "# pvt.iloc[:, 1]\n",
    "pvt"
   ]
  },
  {
   "cell_type": "code",
   "execution_count": 38,
   "id": "4db361ea-d007-4255-a2a8-cb804fb903d5",
   "metadata": {},
   "outputs": [
    {
     "data": {
      "text/plain": [
       "<AxesSubplot:xlabel='species', ylabel='cluster_group'>"
      ]
     },
     "execution_count": 38,
     "metadata": {},
     "output_type": "execute_result"
    },
    {
     "data": {
      "image/png": "[encoded data removed]",
      "text/plain": [
       "<Figure size 432x288 with 1 Axes>"
      ]
     },
     "metadata": {
      "needs_background": "light"
     },
     "output_type": "display_data"
    }
   ],
   "source": [
    "sns.barplot(y=iris.cluster_group, x=iris.species)"
   ]
  },
  {
   "cell_type": "code",
   "execution_count": 41,
   "id": "6bab1057-27e4-47a8-98e1-23608bc38c00",
   "metadata": {},
   "outputs": [
    {
     "data": {
      "text/plain": [
       "array([[6.85      , 3.07368421, 5.74210526, 2.07105263],\n",
       "       [5.006     , 3.428     , 1.462     , 0.246     ],\n",
       "       [5.9016129 , 2.7483871 , 4.39354839, 1.43387097]])"
      ]
     },
     "execution_count": 41,
     "metadata": {},
     "output_type": "execute_result"
    }
   ],
   "source": [
    "model.cluster_centers_\n",
    "# shape (3x4) means 3 groups & each 4 features (spl, spw, ptl, ptw)"
   ]
  },
  {
   "cell_type": "code",
   "execution_count": 64,
   "id": "46b83288-b51c-413b-8e49-b6cfc252d6b5",
   "metadata": {},
   "outputs": [
    {
     "data": {
      "text/plain": [
       "(array([6.85     , 5.006    , 5.9016129]),\n",
       " array([3.07368421, 3.428     , 2.7483871 ]))"
      ]
     },
     "execution_count": 64,
     "metadata": {},
     "output_type": "execute_result"
    }
   ],
   "source": [
    "x_centroids = model.cluster_centers_[:, 0] # x_pos (3 groups) of spl\n",
    "y_centroids = model.cluster_centers_[:, 1] # y_pos (3 groups) of spw\n",
    "x_centroids, y_centroids"
   ]
  },
  {
   "cell_type": "code",
   "execution_count": 55,
   "id": "7ccafbd7-b0d2-458a-b7da-88f14f4a613e",
   "metadata": {},
   "outputs": [
    {
     "data": {
      "text/plain": [
       "{'setosa': 1, 'versicolor': 2, 'virginica': 0}"
      ]
     },
     "execution_count": 55,
     "metadata": {},
     "output_type": "execute_result"
    }
   ],
   "source": [
    "# 0:virginica, 1:setosa, 2:versicolor\n",
    "a = list(zip(iris.species.unique(), iris.cluster_group.unique()))\n",
    "# np.unique(a, return_counts=True)\n",
    "# a\n",
    "dict(a)\n"
   ]
  },
  {
   "cell_type": "code",
   "execution_count": 65,
   "id": "260efe9f-9f69-4c9a-a004-d06c0661664e",
   "metadata": {},
   "outputs": [
    {
     "data": {
      "image/png": "[encoded data removed]",
      "text/plain": [
       "<Figure size 432x288 with 1 Axes>"
      ]
     },
     "metadata": {
      "needs_background": "light"
     },
     "output_type": "display_data"
    }
   ],
   "source": [
    "color_dict = dict({0:'blue', \n",
    "                  1:'red',\n",
    "                  2:'g'})\n",
    "centroid_Xmark_colors = ['r', 'b', 'm']\n",
    "sns.scatterplot(x=iris.sepal_length, y=iris.sepal_width,\n",
    "               hue=iris.cluster_group,\n",
    "               palette=color_dict, s=80)\n",
    "plt.scatter(x_centroids, y_centroids, s=1200, \n",
    "           marker='x', c=centroid_Xmark_colors)\n",
    "plt.title('K-Means Clustering')\n",
    "plt.show()"
   ]
  },
  {
   "cell_type": "code",
   "execution_count": 72,
   "id": "099534eb-e0d5-466f-9e4b-0ba11667b237",
   "metadata": {},
   "outputs": [
    {
     "name": "stdout",
     "output_type": "stream",
     "text": [
      "[1 2]\n"
     ]
    },
    {
     "name": "stderr",
     "output_type": "stream",
     "text": [
      "/home/liberio/miniconda3/lib/python3.8/site-packages/sklearn/base.py:441: UserWarning: X does not have valid feature names, but KMeans was fitted with feature names\n",
      "  warnings.warn(\n"
     ]
    }
   ],
   "source": [
    "X_to_predict = [[1,1,1,1], [3,5,3,5]]\n",
    "print(model.predict(X_to_predict))"
   ]
  },
  {
   "cell_type": "code",
   "execution_count": 83,
   "id": "ecac1147-4d5a-434e-adb1-94eb654bb96e",
   "metadata": {},
   "outputs": [
    {
     "data": {
      "image/png": "[encoded data removed]",
      "text/plain": [
       "<Figure size 432x288 with 1 Axes>"
      ]
     },
     "metadata": {
      "needs_background": "light"
     },
     "output_type": "display_data"
    }
   ],
   "source": [
    "# check False Prediction Points\n",
    "# w = wrong prediction\n",
    "w1 = iris[(iris.cluster_group == 0) & (iris.species != 'virginica')]\n",
    "w2 =  iris[(iris.cluster_group == 2) & (iris.species != 'versicolor')]\n",
    "\n",
    "color_dict = dict({ 0:'blue', 1:'red', 2:'g'})\n",
    "sns.scatterplot(x=iris.sepal_length, y=iris.sepal_width,\n",
    "               hue=iris.cluster_group, palette=color_dict,\n",
    "               s=80, alpha=0.7)\n",
    "plt.scatter(w1.sepal_length, w1.sepal_width,\n",
    "           marker='x', s=250, c='red')\n",
    "plt.scatter(w2.sepal_length, w2.sepal_width, # 14 wrong data\n",
    "           marker='x', s=250, c='black')\n",
    "\n",
    "plt.show()"
   ]
  },
  {
   "cell_type": "code",
   "execution_count": 99,
   "id": "4a37355a-1559-4918-b1a1-8ffe52ae79eb",
   "metadata": {},
   "outputs": [
    {
     "name": "stdout",
     "output_type": "stream",
     "text": [
      "group 0 wrong predict 2\n",
      "group 2 wrong predict 14\n"
     ]
    }
   ],
   "source": [
    "print('group 0 wrong predict {}'.format(len(w1)))\n",
    "print('group 2 wrong predict {}'.format(len(w2)))\n"
   ]
  }
 ],
 "metadata": {
  "kernelspec": {
   "display_name": "Python 3",
   "language": "python",
   "name": "python3"
  },
  "language_info": {
   "codemirror_mode": {
    "name": "ipython",
    "version": 3
   },
   "file_extension": ".py",
   "mimetype": "text/x-python",
   "name": "python",
   "nbconvert_exporter": "python",
   "pygments_lexer": "ipython3",
   "version": "3.8.5"
  }
 },
 "nbformat": 4,
 "nbformat_minor": 5
}
